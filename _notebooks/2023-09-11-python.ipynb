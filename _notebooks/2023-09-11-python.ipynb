{
 "cells": [
  {
   "cell_type": "code",
   "execution_count": 1,
   "metadata": {},
   "outputs": [
    {
     "name": "stdout",
     "output_type": "stream",
     "text": [
      "👍 Python is awesome! 😀\n",
      "Invalid input. Please enter a lowercase letter.\n",
      "Invalid input. Please enter a lowercase letter.\n",
      "Invalid input. Please enter a lowercase letter.\n",
      "Invalid input. Please enter a lowercase letter.\n"
     ]
    }
   ],
   "source": [
    "from emoji import emojize \n",
    "print(emojize(\":thumbs_up: Python is awesome! :grinning_face:\"))\n",
    "\n",
    "import pandas as pd\n",
    "\n",
    "# Create an empty DataFrame\n",
    "df = pd.DataFrame(columns=['Lowercase Letters'])\n",
    "\n",
    "while True:\n",
    "    # Get user input\n",
    "    user_input = input(\"Enter a lowercase letter (or 'exit' to quit): \").strip()\n",
    "\n",
    "    if user_input == 'exit':\n",
    "        break\n",
    "\n",
    "    # Check if the input is a lowercase letter\n",
    "    if len(user_input) == 1 and user_input.islower():\n",
    "        # Create a new DataFrame with the lowercase letter and concatenate it with the existing DataFrame\n",
    "        new_row = pd.DataFrame({'Lowercase Letters': [user_input]})\n",
    "        df = pd.concat([df, new_row], ignore_index=True)\n",
    "    else:\n",
    "        print(\"Invalid input. Please enter a lowercase letter.\")\n",
    "\n",
    "# Display the DataFrame\n",
    "print(df)\n",
    "\n"
   ]
  }
 ],
 "metadata": {
  "kernelspec": {
   "display_name": "Python 3",
   "language": "python",
   "name": "python3"
  },
  "language_info": {
   "codemirror_mode": {
    "name": "ipython",
    "version": 3
   },
   "file_extension": ".py",
   "mimetype": "text/x-python",
   "name": "python",
   "nbconvert_exporter": "python",
   "pygments_lexer": "ipython3",
   "version": "3.10.12"
  },
  "orig_nbformat": 4
 },
 "nbformat": 4,
 "nbformat_minor": 2
}
