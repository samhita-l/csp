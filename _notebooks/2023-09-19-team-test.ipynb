{
 "cells": [
  {
   "cell_type": "code",
   "execution_count": null,
   "metadata": {},
   "outputs": [],
   "source": [
    "import getpass\n",
    "\n",
    "\n",
    "# Define the quiz dictionary with questions as keys and answers as values\n",
    "quiz = {\n",
    "    \"Question 1?\": \"1\",\n",
    "    \"Question 2?\": \"2\",\n",
    "    \"Question 3?\": \"3\",\n",
    "    \"Question 4?\": \"4\",\n",
    "    \"Question 5?\": \"5\",\n",
    "    \"Question 6?\": \"6\"\n",
    "}\n",
    "\n",
    "\n",
    "# Function to administer the quiz\n",
    "def run_quiz():\n",
    "    total_questions = len(quiz)\n",
    "    correct_answers = quiz.values()\n",
    "    score = 0\n",
    "\n",
    "\n",
    "    for i, (question, correct_answer) in enumerate(quiz.items(), start=1):\n",
    "        print(f\"\\nQuestion {i}: {question}\")\n",
    "        user_answer = input(\"Your answer: \").strip().lower()\n",
    "\n",
    "\n",
    "        if user_answer == correct_answer:\n",
    "            print(\"Correct!\")\n",
    "            score += 1\n",
    "        else:\n",
    "            print(f\"Incorrect! The correct answer is: {correct_answer}\")\n",
    "\n",
    "\n",
    "    # Calculate the score as a percentage\n",
    "    percentage_score = (score / total_questions) * 100\n",
    "    print(f\"\\nQuiz completed!\\n{getpass.getuser()}, you scored {percentage_score:.2f}%.\")\n",
    "\n",
    "\n",
    "# Run the quiz\n",
    "run_quiz()\n",
    "\n",
    "\n",
    "\n",
    "\n"
   ]
  }
 ],
 "metadata": {
  "language_info": {
   "name": "python"
  },
  "orig_nbformat": 4
 },
 "nbformat": 4,
 "nbformat_minor": 2
}
